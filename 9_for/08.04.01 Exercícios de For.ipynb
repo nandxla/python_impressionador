{
 "cells": [
  {
   "cell_type": "markdown",
   "metadata": {},
   "source": [
    "# Exercícios\n",
    "\n",
    "## 1. Criando um Registro de Hóspedes\n",
    "\n",
    "Digamos que você está criando o sistema para registrar a chegada de hóspedes em um hotel. No hotel, os hóspedes podem ter quartos com 1, 2, 3 e 4 pessoas. Seu sistema deve conseguir:\n",
    "\n",
    "1. Identificar quantas pessoas o hóspede que acabou de chegar vai ter no quarto (perguntando por meio de input)\n",
    "2. De acordo com a quantidade de pessoas do hóspede, ele deve fazer um for para perguntar o cpf e o nome de cada pessoa, a fim de registrá-la no quarto (2 inputs para cada pessoa, 1 para o cpf e outro para o nome)\n",
    "3. O seu programa então deve gerar uma lista com todas as pessoas que ficarão no quarto em que cada item dessa lista é o nome da pessoa e o cpf da pessoa, assim:"
   ]
  },
  {
   "cell_type": "raw",
   "metadata": {},
   "source": [
    "quarto = [\n",
    "    ['João', 'cpf:00000000000'],\n",
    "    ['Julia', 'cpf:11111111111'],\n",
    "    ['Marcus', 'cpf:22222222222'],\n",
    "    ['Maria', 'cpf:33333333333'],\n",
    "]"
   ]
  },
  {
   "cell_type": "markdown",
   "metadata": {},
   "source": [
    "- Para simplificar, não vamos nos preocupar com possibilidades de \"tentar colocar mais de 1 hóspede, digitar o cpf errado, etc. Nosso objetivo é treinar a criação de uma rotina de cadastro"
   ]
  },
  {
   "cell_type": "code",
   "execution_count": 2,
   "metadata": {},
   "outputs": [
    {
     "name": "stdin",
     "output_type": "stream",
     "text": [
      "Quantas pessoas estarão no quarto?  2\n",
      "Nome da pessoa 1:  Flavia\n",
      "CPF da pessoas 1:  12300444323\n",
      "Nome da pessoa 2:  Danilo\n",
      "CPF da pessoas 2:  12300444332\n"
     ]
    },
    {
     "name": "stdout",
     "output_type": "stream",
     "text": [
      "[['Flavia', 'cpf:12300444323'], ['Danilo', 'cpf:12300444332']]\n"
     ]
    }
   ],
   "source": [
    "#seu código aqui\n",
    "\n",
    "quarto = []\n",
    "qtd_pessoas = int(input(\"Quantas pessoas estarão no quarto? \"))\n",
    "\n",
    "for i in range(qtd_pessoas):\n",
    "    nome = input('Nome da pessoa {}: '.format(i + 1))\n",
    "    cpf = input('CPF da pessoas {}: '.format(i + 1))\n",
    "    \n",
    "    quarto.append([nome, f'cpf:{cpf}'])\n",
    "\n",
    "print(quarto)"
   ]
  },
  {
   "cell_type": "markdown",
   "metadata": {},
   "source": [
    "## 2. Análise de Vendas\n",
    "\n",
    "Nesse exercício vamos fazer uma \"análise simples\" de atingimento de Meta.\n",
    "\n",
    "Temos uma lista com os vendedores e os valores de vendas e queremos identificar (printar) quais os vendedores que bateram a meta e qual foi o valor que eles venderam."
   ]
  },
  {
   "cell_type": "code",
   "execution_count": 4,
   "metadata": {},
   "outputs": [
    {
     "name": "stdout",
     "output_type": "stream",
     "text": [
      "João bateu a meta. Sua venda foi de 15000R$\n",
      "Julia bateu a meta. Sua venda foi de 27000R$\n",
      "Ana bateu a meta. Sua venda foi de 10300R$\n"
     ]
    }
   ],
   "source": [
    "meta = 10000\n",
    "vendas = [\n",
    "    ['João', 15000],\n",
    "    ['Julia', 27000],\n",
    "    ['Marcus', 9900],\n",
    "    ['Maria', 3750],\n",
    "    ['Ana', 10300],\n",
    "    ['Alon', 7870],\n",
    "]\n",
    "#seu código aqui\n",
    "\n",
    "for venda in vendas:\n",
    "    func = venda[0]\n",
    "    valor_venda = venda[1]\n",
    "    \n",
    "    if valor_venda >= meta:\n",
    "        print('{} bateu a meta. Sua venda foi de {}R$'.format(func, valor_venda))\n"
   ]
  },
  {
   "cell_type": "markdown",
   "metadata": {},
   "source": [
    "## 3. Comparação com Ano Anterior\n",
    "\n",
    "Digamos que você está analisando as vendas de produtos de um ecommerce e quer identificar quais produtos tiveram no ano de 2020 mais vendas do que no ano de 2019, para reportar isso para a diretoria.\n",
    "\n",
    "Sua resposta pode ser um print de cada produto, qual foi a venda de 2019, a venda de 2020 e o % de crescimento de 2020 para 2019.\n",
    "\n",
    "Lembrando, para calcular o % de crescimento de um produto de um ano para o outro, podemos fazer: (vendas_produto2020/vendas_produto2019 - 1)\n",
    "\n",
    "Dica: lembre do enumerate, ele pode facilitar seu \"for\""
   ]
  },
  {
   "cell_type": "code",
   "execution_count": 10,
   "metadata": {},
   "outputs": [
    {
     "name": "stdout",
     "output_type": "stream",
     "text": [
      "O produto iphone, foi vendido 70.5% a mais em 2020\n",
      "O produto tv, foi vendido 94.3% a mais em 2020\n",
      "O produto máquina de café, foi vendido 20.7% a mais em 2020\n",
      "O produto notebook dell, foi vendido 64.4% a mais em 2020\n",
      "O produto notebook hp, foi vendido 248.8% a mais em 2020\n",
      "O produto microsoft surface, foi vendido 52.1% a mais em 2020\n",
      "O produto webcam, foi vendido 24.5% a mais em 2020\n",
      "O produto caixa de som, foi vendido 48.1% a mais em 2020\n",
      "O produto microfone, foi vendido 96.3% a mais em 2020\n",
      "O produto câmera canon, foi vendido 68.2% a mais em 2020\n"
     ]
    }
   ],
   "source": [
    "produtos = ['iphone', 'galaxy', 'ipad', 'tv', 'máquina de café', 'kindle', 'geladeira', 'adega', 'notebook dell', 'notebook hp', 'notebook asus', 'microsoft surface', 'webcam', 'caixa de som', 'microfone', 'câmera canon']\n",
    "vendas2019 = [558147,712350,573823,405252,718654,531580,973139,892292,422760,154753,887061,438508,237467,489705,328311,591120]\n",
    "vendas2020 = [951642,244295,26964,787604,867660,78830,710331,646016,694913,539704,324831,667179,295633,725316,644622,994303]\n",
    "#seu código aqui\n",
    "\n",
    "for i, name in enumerate(produtos):\n",
    "    venda_2020 = vendas2020[i]\n",
    "    venda_2019 = vendas2019[i]\n",
    "    \n",
    "    if venda_2020 > venda_2019:\n",
    "        porcentagem_acima = venda_2020 / venda_2019 - 1\n",
    "        print('O produto {}, foi vendido {:.1f}% a mais em 2020'.format(name, porcentagem_acima * 100)) "
   ]
  }
 ],
 "metadata": {
  "kernelspec": {
   "display_name": "Python 3 (ipykernel)",
   "language": "python",
   "name": "python3"
  },
  "language_info": {
   "codemirror_mode": {
    "name": "ipython",
    "version": 3
   },
   "file_extension": ".py",
   "mimetype": "text/x-python",
   "name": "python",
   "nbconvert_exporter": "python",
   "pygments_lexer": "ipython3",
   "version": "3.9.12"
  }
 },
 "nbformat": 4,
 "nbformat_minor": 4
}
