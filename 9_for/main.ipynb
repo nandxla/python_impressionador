{
 "cells": [
  {
   "cell_type": "code",
   "execution_count": 9,
   "id": "2f803d83-8968-4fac-bbf7-894ebc393e81",
   "metadata": {},
   "outputs": [
    {
     "name": "stdout",
     "output_type": "stream",
     "text": [
      "coca\n",
      "pepsi\n",
      "guarana\n",
      "sprite\n",
      "fanta\n",
      "\n",
      "bateu a meta\n",
      "bateu a meta\n",
      "bateu a meta\n",
      "bateu a meta\n",
      "400\n",
      "bateu a meta\n",
      "bateu a meta\n",
      "bateu a meta\n",
      "bateu a meta\n",
      "8 pessoas bateram a meta\n"
     ]
    }
   ],
   "source": [
    "# estrutura for -- usado para repetição \n",
    "produtos = [\"coca\", \"pepsi\", \"guarana\", \"sprite\", \"fanta\"]\n",
    "vendas = [12000, 13000, 40000, 12222, 400, 3211, 41111, 23333, 1222]\n",
    "\n",
    "for i in produtos:\n",
    "    print(i)\n",
    "\n",
    "print() \n",
    "\n",
    "i = 0\n",
    "for venda in vendas:\n",
    "    if venda >= 1000:\n",
    "        print('bateu a meta')\n",
    "        i += 1\n",
    "        continue\n",
    "    \n",
    "    print(venda)\n",
    "\n",
    "print('{} pessoas bateram a meta'.format(i))"
   ]
  },
  {
   "cell_type": "code",
   "execution_count": null,
   "id": "4de08ceb-41ca-4a01-a3ab-507039dc12d5",
   "metadata": {},
   "outputs": [],
   "source": []
  }
 ],
 "metadata": {
  "kernelspec": {
   "display_name": "Python 3 (ipykernel)",
   "language": "python",
   "name": "python3"
  },
  "language_info": {
   "codemirror_mode": {
    "name": "ipython",
    "version": 3
   },
   "file_extension": ".py",
   "mimetype": "text/x-python",
   "name": "python",
   "nbconvert_exporter": "python",
   "pygments_lexer": "ipython3",
   "version": "3.9.12"
  }
 },
 "nbformat": 4,
 "nbformat_minor": 5
}
