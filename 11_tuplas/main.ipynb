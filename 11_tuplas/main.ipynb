{
 "cells": [
  {
   "cell_type": "code",
   "execution_count": 1,
   "id": "c04ed046-3f77-45d3-80e9-d47d15344744",
   "metadata": {},
   "outputs": [
    {
     "name": "stdout",
     "output_type": "stream",
     "text": [
      "Fernando 24/01/2004 14/02/2003 3500 Programador\n"
     ]
    }
   ],
   "source": [
    "# tuplas => listas imutaveis; mais rápidas que a lista; utilizacao de dados afins\n",
    "\n",
    "vendas = ('Fernando', '24/01/2004', '14/02/2003', 3500, 'Programador')\n",
    "\n",
    "# desempacotar \n",
    "nome, data_venda, data_nascimento, salario, cargo = vendas \n",
    "print(nome, data_venda, data_nascimento, salario, cargo)"
   ]
  }
 ],
 "metadata": {
  "kernelspec": {
   "display_name": "Python 3 (ipykernel)",
   "language": "python",
   "name": "python3"
  },
  "language_info": {
   "codemirror_mode": {
    "name": "ipython",
    "version": 3
   },
   "file_extension": ".py",
   "mimetype": "text/x-python",
   "name": "python",
   "nbconvert_exporter": "python",
   "pygments_lexer": "ipython3",
   "version": "3.9.12"
  }
 },
 "nbformat": 4,
 "nbformat_minor": 5
}
