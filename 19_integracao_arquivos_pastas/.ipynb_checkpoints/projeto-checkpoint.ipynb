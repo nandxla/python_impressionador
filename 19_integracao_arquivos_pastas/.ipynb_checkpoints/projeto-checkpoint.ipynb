{
 "cells": [
  {
   "cell_type": "code",
   "execution_count": 1,
   "id": "03037eed-592e-49c1-8a1e-478bb5c05a50",
   "metadata": {},
   "outputs": [],
   "source": [
    "from pathlib import Path\n",
    "import shutil"
   ]
  },
  {
   "cell_type": "code",
   "execution_count": 15,
   "id": "9869cd42-f05d-4e3a-b6fa-fcafab134a67",
   "metadata": {},
   "outputs": [
    {
     "name": "stdout",
     "output_type": "stream",
     "text": [
      "C:\\Users\\nando\\Documents\\python_impressionador\\19_integracao_arquivos_pastas\n",
      "C:\\Users\\nando\\Documents\\python_impressionador\\19_integracao_arquivos_pastas\\Arquivos\n"
     ]
    }
   ],
   "source": [
    "def redirect_file_to_folder(UF, file):\n",
    "    if not (Path.cwd() / UF).exists():\n",
    "        (Path.cwd() / UF).mkdir()\n",
    "    \n",
    "    shutil.move(file, Path.cwd() / UF)\n",
    "\n",
    "local_path = Path.cwd()\n",
    "files_path = Path.cwd() / 'Arquivos'\n",
    "\n",
    "print(local_path)\n",
    "print(files_path)\n",
    "\n",
    "for file in files_path.iterdir():\n",
    "    file_str = str(file)\n",
    "    UF = file_str[-6:].replace('.csv', '')\n",
    "    \n",
    "    redirect_file_to_folder(UF, file)"
   ]
  },
  {
   "cell_type": "code",
   "execution_count": null,
   "id": "b4486613-8dc7-4ad5-9342-fcdd59ecfc82",
   "metadata": {},
   "outputs": [],
   "source": []
  }
 ],
 "metadata": {
  "kernelspec": {
   "display_name": "Python 3 (ipykernel)",
   "language": "python",
   "name": "python3"
  },
  "language_info": {
   "codemirror_mode": {
    "name": "ipython",
    "version": 3
   },
   "file_extension": ".py",
   "mimetype": "text/x-python",
   "name": "python",
   "nbconvert_exporter": "python",
   "pygments_lexer": "ipython3",
   "version": "3.9.12"
  }
 },
 "nbformat": 4,
 "nbformat_minor": 5
}
