{
 "cells": [
  {
   "cell_type": "code",
   "execution_count": 8,
   "id": "61e739d0-5dfa-4aa0-8974-98a932a84817",
   "metadata": {},
   "outputs": [
    {
     "name": "stdout",
     "output_type": "stream",
     "text": [
      "{'iphone': 1500, 'ps5': 300, 'tablet': 3050, 'ipad': 200}\n",
      "1500\n",
      "None\n",
      "existe\n"
     ]
    }
   ],
   "source": [
    "# dicionários: estrutura para armazenamento da dados, usando chaves e valores\n",
    "\n",
    "vendas_tech = {\n",
    "    \"iphone\": 1500,\n",
    "    \"ps5\": 300,\n",
    "    \"tablet\": 3050,\n",
    "    \"ipad\": 200,\n",
    "}\n",
    "\n",
    "print(vendas_tech)\n",
    "print(vendas_tech[\"iphone\"])\n",
    "\n",
    "# utilizando o get -> caso a chave não exista ele retorna None\n",
    "print(vendas_tech.get('pss5'))\n",
    "\n",
    "if vendas_tech.get('tablet') == None:\n",
    "    print('Item inexistente')\n",
    "else:\n",
    "    print('existe')"
   ]
  },
  {
   "cell_type": "code",
   "execution_count": 10,
   "id": "df4ccede-72da-40cd-b3b6-ec63b151a1aa",
   "metadata": {},
   "outputs": [
    {
     "name": "stdout",
     "output_type": "stream",
     "text": [
      "{'iphone': 1500, 'ps5': 300, 'tablet': 3050, 'ipad': 200, 'mesa digitalizadora': 300, 'monitor': 799}\n"
     ]
    }
   ],
   "source": [
    "# adicionionando itens\n",
    "vendas_tech.update({\"mesa digitalizadora\": 300, \"monitor\": 799})\n",
    "print(vendas_tech)"
   ]
  },
  {
   "cell_type": "code",
   "execution_count": 14,
   "id": "2650e65f-9658-4849-bfcb-218a3797bd7d",
   "metadata": {},
   "outputs": [
    {
     "name": "stdout",
     "output_type": "stream",
     "text": [
      "{'tv': 1445, 'blusa': 34, 'monitor': 1222, 'mesa': 244}\n"
     ]
    }
   ],
   "source": [
    "produtos = ['tv', 'blusa', 'monitor', 'mesa']\n",
    "valores = [1445, 34, 1222, 244]\n",
    "\n",
    "lista_zip = zip(produtos, valores)\n",
    "dict_vendas = dict(list(lista_zip))\n",
    "print(dict_vendas)"
   ]
  }
 ],
 "metadata": {
  "kernelspec": {
   "display_name": "Python 3 (ipykernel)",
   "language": "python",
   "name": "python3"
  },
  "language_info": {
   "codemirror_mode": {
    "name": "ipython",
    "version": 3
   },
   "file_extension": ".py",
   "mimetype": "text/x-python",
   "name": "python",
   "nbconvert_exporter": "python",
   "pygments_lexer": "ipython3",
   "version": "3.9.12"
  }
 },
 "nbformat": 4,
 "nbformat_minor": 5
}
