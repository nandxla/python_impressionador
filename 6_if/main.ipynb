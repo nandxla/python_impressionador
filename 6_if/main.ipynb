{
 "cells": [
  {
   "cell_type": "code",
   "execution_count": 5,
   "id": "87746f76-5ad5-467d-a6e7-7b01b6ba44ab",
   "metadata": {},
   "outputs": [
    {
     "name": "stdout",
     "output_type": "stream",
     "text": [
      "não pode entrar\n"
     ]
    }
   ],
   "source": [
    "# condicionais\n",
    "\n",
    "idade_user = 16\n",
    "idade_min = 18\n",
    "\n",
    "if idade_user >= idade_min:\n",
    "    print(\"pode entrar\")\n",
    "else:\n",
    "    print(\"não pode entrar\")"
   ]
  },
  {
   "cell_type": "code",
   "execution_count": 11,
   "id": "d902c31d-91a3-42af-a05b-ac6f37f2bab0",
   "metadata": {},
   "outputs": [
    {
     "name": "stdout",
     "output_type": "stream",
     "text": [
      "Batemos a meta\n"
     ]
    }
   ],
   "source": [
    "meta_vendas = 53_000\n",
    "vendas_mes = 62_000\n",
    "\n",
    "if meta_vendas <= vendas_mes:\n",
    "    print(\"Batemos a meta\")"
   ]
  },
  {
   "cell_type": "code",
   "execution_count": 20,
   "id": "bc75ec66-796a-4904-afe6-3e44fd825112",
   "metadata": {},
   "outputs": [
    {
     "name": "stdout",
     "output_type": "stream",
     "text": [
      "Seu bônus é de 2800.0\n"
     ]
    }
   ],
   "source": [
    "qtd_vendas = 8000\n",
    "meta_de_vendas = 4000\n",
    "bonus = 0\n",
    "\n",
    "if qtd_vendas < meta_de_vendas:\n",
    "    bonus = 0\n",
    "    print('Não ganhou bônus')\n",
    "elif qtd_vendas >= (2 * meta_de_vendas):\n",
    "    bonus = 0.7 * meta_de_vendas\n",
    "    print(f\"Seu bônus é de {bonus}\")\n",
    "else:\n",
    "    bonus = 0.3 * meta_de_vendas\n",
    "    print(f\"Seu bônus é de {bonus}\")"
   ]
  },
  {
   "cell_type": "code",
   "execution_count": null,
   "id": "01c04411-5384-42cf-890b-f977127f4541",
   "metadata": {},
   "outputs": [],
   "source": [
    "\"\"\"\n",
    "    Comparadores\n",
    "    ==\n",
    "    !=\n",
    "    >=\n",
    "    <=\n",
    "    >\n",
    "    <\n",
    "    in\n",
    "    not ... in ...\n",
    "    not \n",
    "\"\"\""
   ]
  }
 ],
 "metadata": {
  "kernelspec": {
   "display_name": "Python 3 (ipykernel)",
   "language": "python",
   "name": "python3"
  },
  "language_info": {
   "codemirror_mode": {
    "name": "ipython",
    "version": 3
   },
   "file_extension": ".py",
   "mimetype": "text/x-python",
   "name": "python",
   "nbconvert_exporter": "python",
   "pygments_lexer": "ipython3",
   "version": "3.9.12"
  }
 },
 "nbformat": 4,
 "nbformat_minor": 5
}
