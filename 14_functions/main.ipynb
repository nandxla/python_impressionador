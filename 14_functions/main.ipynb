{
 "cells": [
  {
   "cell_type": "code",
   "execution_count": 2,
   "id": "62bfeb24-d741-4d63-9f9a-a379741fdde0",
   "metadata": {},
   "outputs": [
    {
     "name": "stdout",
     "output_type": "stream",
     "text": [
      "2\n"
     ]
    }
   ],
   "source": [
    "# função: código padronizados que serão repetidos ao decorrer do código\n",
    "# uso para organização de funções no programa\n",
    "\n",
    "def cadastrar_produto():\n",
    "    produto = input(\"Digite o nome do produto: \")\n",
    "    produto = produto.lower()\n",
    "    produto = produto.strip()\n",
    "\n",
    "def return_soma():\n",
    "    return 1 + 1\n",
    "\n",
    "print(return_soma())"
   ]
  },
  {
   "cell_type": "code",
   "execution_count": 3,
   "id": "4ec303cc-a52b-47a2-b805-5e1f17228bac",
   "metadata": {},
   "outputs": [
    {
     "name": "stdout",
     "output_type": "stream",
     "text": [
      "30\n"
     ]
    }
   ],
   "source": [
    "# parametros\n",
    "def soma_dois_valores(n1, n2):\n",
    "    return n1 + n2\n",
    "\n",
    "print(soma_dois_valores(10, 20))"
   ]
  }
 ],
 "metadata": {
  "kernelspec": {
   "display_name": "Python 3 (ipykernel)",
   "language": "python",
   "name": "python3"
  },
  "language_info": {
   "codemirror_mode": {
    "name": "ipython",
    "version": 3
   },
   "file_extension": ".py",
   "mimetype": "text/x-python",
   "name": "python",
   "nbconvert_exporter": "python",
   "pygments_lexer": "ipython3",
   "version": "3.9.12"
  }
 },
 "nbformat": 4,
 "nbformat_minor": 5
}
