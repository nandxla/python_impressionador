{
 "cells": [
  {
   "cell_type": "code",
   "execution_count": 2,
   "id": "62bfeb24-d741-4d63-9f9a-a379741fdde0",
   "metadata": {},
   "outputs": [
    {
     "name": "stdout",
     "output_type": "stream",
     "text": [
      "2\n"
     ]
    }
   ],
   "source": [
    "# função: código padronizados que serão repetidos ao decorrer do código\n",
    "# uso para organização de funções no programa\n",
    "\n",
    "def cadastrar_produto():\n",
    "    produto = input(\"Digite o nome do produto: \")\n",
    "    produto = produto.lower()\n",
    "    produto = produto.strip()\n",
    "\n",
    "def return_soma():\n",
    "    return 1 + 1\n",
    "\n",
    "print(return_soma())"
   ]
  },
  {
   "cell_type": "code",
   "execution_count": 1,
   "id": "4ec303cc-a52b-47a2-b805-5e1f17228bac",
   "metadata": {},
   "outputs": [
    {
     "name": "stdout",
     "output_type": "stream",
     "text": [
      "30\n"
     ]
    }
   ],
   "source": [
    "# parametros\n",
    "def soma_dois_valores(n1, n2):\n",
    "    return n1 + n2\n",
    "\n",
    "print(soma_dois_valores(10, 20))"
   ]
  }
 ],
 "metadata": {
  "interpreter": {
   "hash": "e7370f93d1d0cde622a1f8e1c04877d8463912d04d973331ad4851f04de6915a"
  },
  "kernelspec": {
   "display_name": "Python 3.10.4 64-bit",
   "language": "python",
   "name": "python3"
  },
  "language_info": {
   "codemirror_mode": {
    "name": "ipython",
    "version": 3
   },
   "file_extension": ".py",
   "mimetype": "text/x-python",
   "name": "python",
   "nbconvert_exporter": "python",
   "pygments_lexer": "ipython3",
   "version": "3.10.4"
  }
 },
 "nbformat": 4,
 "nbformat_minor": 5
}
