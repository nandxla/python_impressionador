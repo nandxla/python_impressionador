{
 "cells": [
  {
   "cell_type": "code",
   "execution_count": 5,
   "id": "2122eaef-546f-4c2a-b08a-c299e96fda0f",
   "metadata": {},
   "outputs": [
    {
     "name": "stdout",
     "output_type": "stream",
     "text": [
      "15\n",
      "n\n",
      "c\n",
      "nandola@email\n"
     ]
    }
   ],
   "source": [
    "# manipulando string\n",
    "email = 'nandola@email.com'\n",
    "nome = 'Fernando Santos'\n",
    "\n",
    "# tamanho\n",
    "print(len(nome))\n",
    "\n",
    "# indice\n",
    "print(email[0])\n",
    "print(email[-3])\n",
    "\n",
    "# fatiamento\n",
    "# texto[i_inicial:quantos_valores_percorrer:]\n",
    "print(email[0:-4])"
   ]
  },
  {
   "cell_type": "code",
   "execution_count": 9,
   "id": "006d7061-04e2-46e6-a208-370fe490b487",
   "metadata": {},
   "outputs": [
    {
     "name": "stdout",
     "output_type": "stream",
     "text": [
      "FERNANDO SANTOS\n",
      "fernando santos\n",
      "Fernando santos\n",
      "Fernando Santos\n",
      "fernando santos\n",
      "2\n",
      "True\n"
     ]
    }
   ],
   "source": [
    "# métodos de string\n",
    "# https://www.w3schools.com/python/python_ref_string.asp  todos os métodos\n",
    "print(nome.upper())\n",
    "print(nome.lower())\n",
    "print(nome.capitalize())\n",
    "print(nome.title())\n",
    "print(nome.casefold())\n",
    "print(nome.count('a'))\n",
    "print(nome.endswith('os'))\n",
    "print(nome.find())"
   ]
  },
  {
   "cell_type": "code",
   "execution_count": null,
   "id": "7e23a587-dbab-42de-b87e-bb92b74e3d19",
   "metadata": {},
   "outputs": [],
   "source": []
  }
 ],
 "metadata": {
  "kernelspec": {
   "display_name": "Python 3 (ipykernel)",
   "language": "python",
   "name": "python3"
  },
  "language_info": {
   "codemirror_mode": {
    "name": "ipython",
    "version": 3
   },
   "file_extension": ".py",
   "mimetype": "text/x-python",
   "name": "python",
   "nbconvert_exporter": "python",
   "pygments_lexer": "ipython3",
   "version": "3.9.12"
  }
 },
 "nbformat": 4,
 "nbformat_minor": 5
}
