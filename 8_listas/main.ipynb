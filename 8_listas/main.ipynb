{
 "cells": [
  {
   "cell_type": "code",
   "execution_count": 16,
   "id": "e12bcbfc-a52d-4a5f-8287-8e287c798b4b",
   "metadata": {},
   "outputs": [
    {
     "name": "stdout",
     "output_type": "stream",
     "text": [
      "celular\n",
      "2333\n"
     ]
    }
   ],
   "source": [
    "# listas\n",
    "produtos = ['tv', 'celular', 'notebook']\n",
    "valor = [1100, 2333, 1245]\n",
    "\n",
    "print(produtos[1])\n",
    "print(valor[1])\n",
    "\n",
    "produtos[1] = 'kindle'"
   ]
  },
  {
   "cell_type": "code",
   "execution_count": 10,
   "id": "333f9e84-ff11-43af-8d3d-dc1be50d2d9b",
   "metadata": {},
   "outputs": [
    {
     "name": "stdin",
     "output_type": "stream",
     "text": [
      "insire o nome do produto  tb\n"
     ]
    },
    {
     "name": "stdout",
     "output_type": "stream",
     "text": [
      "produto inexistente\n"
     ]
    }
   ],
   "source": [
    "# Métodos\n",
    "# index\n",
    "nome_produto = input('insire o nome do produto ')\n",
    "\n",
    "if nome_produto in produtos:\n",
    "    print(produtos.index(nome_produto))\n",
    "else:\n",
    "    print('produto inexistente')"
   ]
  },
  {
   "cell_type": "code",
   "execution_count": 17,
   "id": "f54e096d-73b2-43cc-95e9-2b6893f700ec",
   "metadata": {},
   "outputs": [
    {
     "name": "stdout",
     "output_type": "stream",
     "text": [
      "['tv', 'kindle', 'notebook', 'iphone 11']\n"
     ]
    }
   ],
   "source": [
    "# append and remove\n",
    "produtos.append('iphone 11')\n",
    "produtos.append('quadro')\n",
    "try:\n",
    "    produtos.remove('quadro') # usando o nome e o index\n",
    "    print(produtos)\n",
    "except:\n",
    "    print('produto não existe')"
   ]
  },
  {
   "cell_type": "code",
   "execution_count": 19,
   "id": "4f286676-da9f-41ec-b2c6-a567f8ef5cbd",
   "metadata": {},
   "outputs": [
    {
     "name": "stdout",
     "output_type": "stream",
     "text": [
      "2333 1100\n"
     ]
    }
   ],
   "source": [
    "# min and max\n",
    "mais_caro = max(valor)\n",
    "mais_barato = min(valor)\n",
    "\n",
    "print(mais_caro, mais_barato)"
   ]
  },
  {
   "cell_type": "code",
   "execution_count": 21,
   "id": "ae26c42b-5552-44f9-a23d-257bdb02ab31",
   "metadata": {},
   "outputs": [
    {
     "name": "stdout",
     "output_type": "stream",
     "text": [
      "['tv', 'kindle', 'notebook', 'iphone 11', 'pera', 'maça', 'uva']\n"
     ]
    }
   ],
   "source": [
    "# juntando listas\n",
    "novos_produtos = ['pera', 'maça', 'uva']\n",
    "todos_produtos = produtos + novos_produtos\n",
    "\n",
    "print(todos_produtos)"
   ]
  },
  {
   "cell_type": "code",
   "execution_count": null,
   "id": "7e8f5753-46ce-43ab-84a5-06d3712063d3",
   "metadata": {},
   "outputs": [],
   "source": [
    "# lista de lista | matriz\n",
    "vendedores = ['fernando', 'navega', 'predo', 'vitin']\n",
    "produtos  = ['tv', 'celular']\n"
   ]
  }
 ],
 "metadata": {
  "kernelspec": {
   "display_name": "Python 3 (ipykernel)",
   "language": "python",
   "name": "python3"
  },
  "language_info": {
   "codemirror_mode": {
    "name": "ipython",
    "version": 3
   },
   "file_extension": ".py",
   "mimetype": "text/x-python",
   "name": "python",
   "nbconvert_exporter": "python",
   "pygments_lexer": "ipython3",
   "version": "3.9.12"
  }
 },
 "nbformat": 4,
 "nbformat_minor": 5
}
