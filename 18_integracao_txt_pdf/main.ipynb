{
 "cells": [
  {
   "cell_type": "code",
   "execution_count": 15,
   "id": "f679ef57-ce4b-44be-ac03-f1c4b1a61ca4",
   "metadata": {},
   "outputs": [
    {
     "name": "stdout",
     "output_type": "stream",
     "text": [
      "\"73 alunos vieram pelo site.\n",
      "155 alunos vieram pelo yt.\n",
      "22 alunos vieram pelo instagram.\n",
      "2 alunos vieram pelo facebook.\n",
      "278 alunos vieram pelos anuncios.\n",
      "226 alunos vieram são orgânicos.\n"
     ]
    }
   ],
   "source": [
    "alunos_site = 0\n",
    "alunos_yt = 0\n",
    "alunos_ig = 0\n",
    "alunos_fbig = 0\n",
    "alunos_anuncio = 0\n",
    "alunos_org = 0\n",
    "\n",
    "with open('Alunos.txt', 'r') as alunos_file:\n",
    "    for line in alunos_file.readlines():        \n",
    "        if \"_org\" in line:\n",
    "            alunos_org += 1    \n",
    "            if \"hashtag_site_org\" in line:\n",
    "                alunos_site += 1        \n",
    "\n",
    "            if \"hashtag_yt_org\" in line:\n",
    "                alunos_yt += 1\n",
    "\n",
    "            if \"hashtag_ig_org\" in line:\n",
    "                alunos_ig += 1\n",
    "        \n",
    "            if \"hashtag_igfb_org\" in line:\n",
    "                alunos_fbig += 1\n",
    "        else:\n",
    "            alunos_anuncio += 1\n",
    "\n",
    "            \n",
    "        \n",
    "            \n",
    "resume = f\"\"\"\"{alunos_site} alunos vieram pelo site.\n",
    "{alunos_yt} alunos vieram pelo yt.\n",
    "{alunos_ig} alunos vieram pelo instagram.\n",
    "{alunos_fbig} alunos vieram pelo facebook.\n",
    "{alunos_anuncio} alunos vieram pelos anuncios.\n",
    "{alunos_org} alunos vieram são orgânicos.\"\"\"\n",
    "\n",
    "with open('resume.txt', 'w', encoding='utf-8') as file:\n",
    "    print(resume)\n",
    "    file.write(resume)\n"
   ]
  },
  {
   "cell_type": "code",
   "execution_count": null,
   "id": "2061d975-ecab-40cc-b758-a4fe7663b7ae",
   "metadata": {},
   "outputs": [],
   "source": []
  },
  {
   "cell_type": "code",
   "execution_count": null,
   "id": "d143cb61-5547-47fd-b9df-d1d62733f169",
   "metadata": {},
   "outputs": [],
   "source": []
  }
 ],
 "metadata": {
  "kernelspec": {
   "display_name": "Python 3 (ipykernel)",
   "language": "python",
   "name": "python3"
  },
  "language_info": {
   "codemirror_mode": {
    "name": "ipython",
    "version": 3
   },
   "file_extension": ".py",
   "mimetype": "text/x-python",
   "name": "python",
   "nbconvert_exporter": "python",
   "pygments_lexer": "ipython3",
   "version": "3.9.12"
  }
 },
 "nbformat": 4,
 "nbformat_minor": 5
}
