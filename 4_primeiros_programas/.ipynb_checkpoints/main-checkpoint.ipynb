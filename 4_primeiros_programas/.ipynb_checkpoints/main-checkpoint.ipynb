{
 "cells": [
  {
   "cell_type": "code",
   "execution_count": 2,
   "id": "b37fec57-0123-4759-b5a6-3882d9320473",
   "metadata": {},
   "outputs": [
    {
     "name": "stdout",
     "output_type": "stream",
     "text": [
      "Hello World\n"
     ]
    }
   ],
   "source": [
    "print(\"Hello World\")"
   ]
  },
  {
   "cell_type": "code",
   "execution_count": 7,
   "id": "e06783af-d578-4a2b-89b8-68b2f9d7bde8",
   "metadata": {},
   "outputs": [
    {
     "name": "stdout",
     "output_type": "stream",
     "text": [
      "12\n",
      "8\n",
      "20\n",
      "5.0\n",
      "100\n",
      "5\n",
      "0\n"
     ]
    }
   ],
   "source": [
    "# operaçãoes básica\n",
    "print(10 + 2)\n",
    "print(10 - 2)\n",
    "print(10 * 2)\n",
    "print(10 / 2)\n",
    "print(10 ** 2)\n",
    "print(10 // 2)\n",
    "print(10 % 2)"
   ]
  },
  {
   "cell_type": "code",
   "execution_count": 5,
   "id": "49eda73e-6cf6-4628-8aa9-63808d68d7b8",
   "metadata": {},
   "outputs": [],
   "source": [
    "# variáveis - armazenam dados\n",
    "nome = 'Fernando'\n",
    "idade = 18\n",
    "altura = 1.80\n",
    "fumante = False\n",
    "\n",
    "# obs.: tudo em python é um objeto, todo tipo de dado tem seus métodos e atributos"
   ]
  },
  {
   "cell_type": "code",
   "execution_count": 6,
   "id": "b74956d7-023f-48c9-9b36-c1d8d2f0b7a7",
   "metadata": {},
   "outputs": [
    {
     "name": "stdin",
     "output_type": "stream",
     "text": [
      "Digite seu nome:  Fernando\n"
     ]
    },
    {
     "name": "stdout",
     "output_type": "stream",
     "text": [
      "Olá Fernando\n"
     ]
    }
   ],
   "source": [
    "# pegando dados\n",
    "nome_user = input('Digite seu nome: ')\n",
    "print('Olá {}'.format(nome_user))"
   ]
  },
  {
   "cell_type": "code",
   "execution_count": null,
   "id": "9fee8647-16f6-4aa3-bc8e-02efd21732ca",
   "metadata": {},
   "outputs": [],
   "source": []
  }
 ],
 "metadata": {
  "kernelspec": {
   "display_name": "Python 3 (ipykernel)",
   "language": "python",
   "name": "python3"
  },
  "language_info": {
   "codemirror_mode": {
    "name": "ipython",
    "version": 3
   },
   "file_extension": ".py",
   "mimetype": "text/x-python",
   "name": "python",
   "nbconvert_exporter": "python",
   "pygments_lexer": "ipython3",
   "version": "3.9.12"
  }
 },
 "nbformat": 4,
 "nbformat_minor": 5
}
